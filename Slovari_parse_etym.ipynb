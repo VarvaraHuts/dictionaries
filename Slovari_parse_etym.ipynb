{
 "cells": [
  {
   "cell_type": "code",
   "execution_count": 1,
   "metadata": {
    "collapsed": true
   },
   "outputs": [],
   "source": [
    "import sqlite3\n",
    "import re\n",
    "from bs4 import BeautifulSoup\n",
    "import os\n",
    "import warnings"
   ]
  },
  {
   "cell_type": "code",
   "execution_count": 2,
   "metadata": {
    "collapsed": true
   },
   "outputs": [],
   "source": [
    "warnings.filterwarnings('ignore')"
   ]
  },
  {
   "cell_type": "code",
   "execution_count": 15,
   "metadata": {
    "collapsed": true
   },
   "outputs": [],
   "source": [
    "con = sqlite3.connect('slovari.db')\n",
    "cur = con.cursor()"
   ]
  },
  {
   "cell_type": "code",
   "execution_count": 16,
   "metadata": {
    "collapsed": true
   },
   "outputs": [],
   "source": [
    "langs = [\"азерб.\", \"англ.\", \"араб.\", \"африкан.\", \"венг.\", \"вьетнам.\", \"голл.\", \"греч.\", \"груз.\", \"др.-герм.\", \"др.-евр.\", \"др.-егип.\", \"др.-норв.\", \"др.-сканд.\", \"ивр.\", \"инд.\", \"исланд.\", \"исп.\", \"итал.\", \"казах.\", \"кариб.\", \"кельт.\", \"киргиз.\", \"китайск.\", \"латыш.\", \"литов.\", \"монг.\", \"нем.\", \"норв.\", \"перс.\", \"польск.\", \"португ.\", \"румын.\", \"санскр.\", \"сканд.\", \"ст.-слав.\", \"тур.\", \"тюрк.\", \"тюрк.-монг.\", \"узбек.\", \"укр.\", \"фин.\", \"фр.\", \"франц.\", \"чешек.\", \"швед.\", \"япон.\",] "
   ]
  },
  {
   "cell_type": "code",
   "execution_count": 17,
   "metadata": {
    "collapsed": true
   },
   "outputs": [],
   "source": [
    "sql = 'SELECT orth, dic_name, etym FROM test'\n",
    "x = [k for k in cur.execute(sql)]\n",
    "for row in x:\n",
    "    if row[2] != None:\n",
    "        orth = row[0]\n",
    "        dic_name = row[1]\n",
    "        etym = str(row[2])\n",
    "        for item in langs:\n",
    "            if item in etym:\n",
    "                cur.execute(\"UPDATE test SET etym_lang =? WHERE orth=? and dic_name=?\", (item,orth,dic_name))\n",
    "con.commit()"
   ]
  },
  {
   "cell_type": "code",
   "execution_count": 18,
   "metadata": {
    "collapsed": true
   },
   "outputs": [],
   "source": [
    "con.close()"
   ]
  }
 ],
 "metadata": {
  "kernelspec": {
   "display_name": "Python 3",
   "language": "python",
   "name": "python3"
  },
  "language_info": {
   "codemirror_mode": {
    "name": "ipython",
    "version": 3
   },
   "file_extension": ".py",
   "mimetype": "text/x-python",
   "name": "python",
   "nbconvert_exporter": "python",
   "pygments_lexer": "ipython3",
   "version": "3.6.1"
  }
 },
 "nbformat": 4,
 "nbformat_minor": 2
}
