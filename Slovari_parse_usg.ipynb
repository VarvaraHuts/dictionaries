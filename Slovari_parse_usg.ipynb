{
 "cells": [
  {
   "cell_type": "code",
   "execution_count": 1,
   "metadata": {
    "collapsed": true
   },
   "outputs": [],
   "source": [
    "from bs4 import BeautifulSoup\n",
    "import re\n",
    "import os\n",
    "import warnings"
   ]
  },
  {
   "cell_type": "code",
   "execution_count": 2,
   "metadata": {
    "collapsed": true
   },
   "outputs": [],
   "source": [
    "warnings.filterwarnings('ignore')"
   ]
  },
  {
   "cell_type": "code",
   "execution_count": 25,
   "metadata": {},
   "outputs": [
    {
     "name": "stdout",
     "output_type": "stream",
     "text": [
      "74780\n"
     ]
    }
   ],
   "source": [
    "to_replace_in_file = ['\\t', '\\n']\n",
    "\n",
    "s = open(\"C:/Users/1/Desktop/slovari/dics/kuznec.tei\", \"r\", encoding=\"utf-8\")\n",
    "s = s.read()\n",
    "for item in to_replace_in_file:\n",
    "    s = s.replace(item, '')\n",
    "soup = BeautifulSoup(s)\n",
    "entries = soup.findAll('entry')\n",
    "print (len(entries))"
   ]
  },
  {
   "cell_type": "code",
   "execution_count": 4,
   "metadata": {
    "collapsed": true
   },
   "outputs": [],
   "source": [
    "to_replace_in_sense = [\"'\", '\"', '[', ']', 'n', '=']\n",
    "\n",
    "def get_sense_n(to_replace_in_sense, entry):\n",
    "    res = re.findall('<sense n=\".\">.+?</sense>', entry)\n",
    "    n_senses = []\n",
    "    for item in res:\n",
    "        n_sense = str(re.findall('n=\"\\d\"', item))\n",
    "        for item_to_replace in to_replace_in_sense:\n",
    "            n_sense = n_sense.replace(item_to_replace, '')\n",
    "        n_senses.append(int(n_sense))\n",
    "    try:\n",
    "        return n_senses\n",
    "    except:\n",
    "        pass"
   ]
  },
  {
   "cell_type": "code",
   "execution_count": 5,
   "metadata": {
    "collapsed": true
   },
   "outputs": [],
   "source": [
    "def get_usg(num, entry):\n",
    "    sense = str(re.findall('<sense n=\"' + str(num) + '\">.+?</sense>', entry))\n",
    "    usg = str(re.findall('<usg type=\".+?\">.+?</usg>', sense))\n",
    "    res = str(re.findall('>.+?<', usg))\n",
    "    res = res.replace(\"['> \", \"\")\n",
    "    res = res.replace(\" <']\", \"\")\n",
    "    return res"
   ]
  },
  {
   "cell_type": "code",
   "execution_count": 29,
   "metadata": {
    "collapsed": true
   },
   "outputs": [],
   "source": [
    "w = open(\"C:/Users/1/Desktop/usg.tei\", \"w\", encoding=\"utf-8\")"
   ]
  },
  {
   "cell_type": "code",
   "execution_count": 30,
   "metadata": {
    "collapsed": true
   },
   "outputs": [],
   "source": [
    "for entry in entries:\n",
    "    entry_n = str(entry)\n",
    "    item = entry_n.replace(\"\\xa0\", \" \")\n",
    "    try:\n",
    "        num_senses = get_sense_n(to_replace_in_sense, item)\n",
    "        arr = []\n",
    "        for num_sense in num_senses:\n",
    "            usg = get_usg(num_sense, item)\n",
    "            if usg != \"[]\":\n",
    "                arr.append(usg)\n",
    "        if len(arr) > 0:\n",
    "            w.write(item + \"\\n\")\n",
    "    except:\n",
    "        pass"
   ]
  },
  {
   "cell_type": "code",
   "execution_count": 31,
   "metadata": {
    "collapsed": true
   },
   "outputs": [],
   "source": [
    "w.close()"
   ]
  }
 ],
 "metadata": {
  "kernelspec": {
   "display_name": "Python 3",
   "language": "python",
   "name": "python3"
  },
  "language_info": {
   "codemirror_mode": {
    "name": "ipython",
    "version": 3
   },
   "file_extension": ".py",
   "mimetype": "text/x-python",
   "name": "python",
   "nbconvert_exporter": "python",
   "pygments_lexer": "ipython3",
   "version": "3.6.1"
  }
 },
 "nbformat": 4,
 "nbformat_minor": 2
}
